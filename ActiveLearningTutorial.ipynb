{
 "cells": [
  {
   "cell_type": "code",
   "execution_count": null,
   "id": "b3fc04e5-ba24-474e-a38b-2992fc4b7c27",
   "metadata": {},
   "outputs": [],
   "source": [
    "!pip install -r requirements.txt"
   ]
  },
  {
   "cell_type": "code",
   "execution_count": 1,
   "id": "12985854-1987-4ad8-a008-2b46e783b402",
   "metadata": {},
   "outputs": [],
   "source": [
    "import os\n",
    "import datetime\n",
    "\n",
    "import datasets\n",
    "import numpy\n",
    "import rubrix as rb\n",
    "\n",
    "from pathlib import Path\n",
    "from rubrix.listeners import listener\n",
    "\n",
    "from active_learning_test.active_learner import (\n",
    "    build_active_learner,\n",
    "    convert_to_small_text_dataset,\n",
    "    initialize_active_learner\n",
    ")"
   ]
  },
  {
   "cell_type": "code",
   "execution_count": 2,
   "id": "2dea83e9-7472-4f8c-b6e2-4ac606b924ba",
   "metadata": {},
   "outputs": [],
   "source": [
    "def initialize_rubrix(initial_indices, trec_dataset, label_names):\n",
    "\n",
    "    texts = [trec_dataset['train']['text'][i] for i in initial_indices]\n",
    "    labels = [trec_dataset['train']['label-coarse'][i] for i in initial_indices]\n",
    "\n",
    "    records = [\n",
    "        rb.TextClassificationRecord(\n",
    "            id=idx,\n",
    "            text=text,\n",
    "            annotation=label_names[labels[idx]],\n",
    "            status='Validated'\n",
    "        )\n",
    "        for idx, text in enumerate(texts)\n",
    "    ]\n",
    "    rb.log(records, name='active-learning-test-batch-initial')\n",
    "    \n",
    "def log_next_batch(batch_idx, trec_dataset, queried_indices):\n",
    "    texts = [trec_dataset['train']['text'][i] for i in queried_indices]\n",
    "    records = [\n",
    "        rb.TextClassificationRecord(\n",
    "            id=f\"{batch_idx}_{idx}\",\n",
    "            text=text,\n",
    "            prediction=[\n",
    "                (label, 0.0)\n",
    "                for label in trec_dataset[\"train\"].features[\"label-coarse\"].names\n",
    "            ],\n",
    "            metadata={\"batch_id\": batch_idx},\n",
    "        )\n",
    "        for idx, text in enumerate(texts)\n",
    "    ]\n",
    "    print(f\"Logging records for batch {batch_idx}\")\n",
    "    rb.log(records, name=f\"active-learning-test-batch\")\n"
   ]
  },
  {
   "cell_type": "code",
   "execution_count": 3,
   "id": "575156cd-6f81-454e-999b-ad106a0ce3bc",
   "metadata": {},
   "outputs": [
    {
     "name": "stderr",
     "output_type": "stream",
     "text": [
      "2022-06-07 13:28:12.213 | WARNING  | datasets.builder:_create_builder_config:388 - Using custom data configuration default\n",
      "2022-06-07 13:28:12.216 | WARNING  | datasets.builder:download_and_prepare:542 - Reusing dataset trec (/Users/frascuchon/.cache/huggingface/datasets/trec/default/1.1.0/751da1ab101b8d297a3d6e9c79ee9b0173ff94c4497b75677b59b61d5467a9b9)\n"
     ]
    },
    {
     "data": {
      "application/vnd.jupyter.widget-view+json": {
       "model_id": "95cd07a1905845f9a28706e051f93b66",
       "version_major": 2,
       "version_minor": 0
      },
      "text/plain": [
       "  0%|          | 0/2 [00:00<?, ?it/s]"
      ]
     },
     "metadata": {},
     "output_type": "display_data"
    },
    {
     "data": {
      "application/vnd.jupyter.widget-view+json": {
       "model_id": "f34c48e7859d40ba983f8f36712a5b46",
       "version_major": 2,
       "version_minor": 0
      },
      "text/plain": [
       "  0%|          | 0/10 [00:00<?, ?it/s]"
      ]
     },
     "metadata": {},
     "output_type": "display_data"
    },
    {
     "name": "stdout",
     "output_type": "stream",
     "text": [
      "10 records logged to http://localhost:6900/datasets/rubrix/active-learning-test-batch-initial\n"
     ]
    }
   ],
   "source": [
    "trec_dataset = datasets.load_dataset('trec')\n",
    "label_names = trec_dataset['train'].features['label-coarse'].names\n",
    "\n",
    "trec_dataset_st = convert_to_small_text_dataset(trec_dataset)\n",
    "active_learner = build_active_learner(trec_dataset_st, len(label_names))\n",
    "\n",
    "initial_indices = initialize_active_learner(active_learner, trec_dataset_st.y)\n",
    "initialize_rubrix(initial_indices, trec_dataset, label_names)"
   ]
  },
  {
   "cell_type": "code",
   "execution_count": 4,
   "id": "a4247b38-b869-453f-b52e-c5c7bee63754",
   "metadata": {},
   "outputs": [
    {
     "name": "stdout",
     "output_type": "stream",
     "text": [
      "Logging records for batch 0\n"
     ]
    },
    {
     "data": {
      "application/vnd.jupyter.widget-view+json": {
       "model_id": "4b209912a6ba45598fe220c66b78370c",
       "version_major": 2,
       "version_minor": 0
      },
      "text/plain": [
       "  0%|          | 0/10 [00:00<?, ?it/s]"
      ]
     },
     "metadata": {},
     "output_type": "display_data"
    },
    {
     "name": "stdout",
     "output_type": "stream",
     "text": [
      "10 records logged to http://localhost:6900/datasets/rubrix/active-learning-test-batch\n"
     ]
    }
   ],
   "source": [
    "label_name_to_idx = dict({\n",
    "    name: i\n",
    "    for i, name in enumerate(label_names)\n",
    "})\n",
    "\n",
    "batch_idx = 0\n",
    "queried_indices = active_learner.query()\n",
    "log_next_batch(batch_idx, trec_dataset, queried_indices)"
   ]
  },
  {
   "cell_type": "code",
   "execution_count": 9,
   "id": "b9396459-1e40-4d35-8462-e985d6dc13d8",
   "metadata": {},
   "outputs": [],
   "source": [
    "def condition(search):\n",
    "    return search.total >= 10\n",
    "\n",
    "\n",
    "@listener(\n",
    "    dataset=\"active-learning-test-batch\",\n",
    "    query=f\"status:Validated and NOT _exists_:metadata.processed\",\n",
    "    condition=condition,\n",
    "    execution_interval_in_seconds=5,\n",
    ")\n",
    "def next_loop_step_2(records, ctx):\n",
    "    new_labels = [label_name_to_idx[r.annotation] for r in records]\n",
    "    active_learner.update(numpy.array(new_labels))\n",
    "    \n",
    "    batch_idx = 0\n",
    "    for r in records:\n",
    "        r.metadata[\"processed\"] = True\n",
    "        if r.metadata[\"batch_id\"] > batch_idx:\n",
    "            batch_idx = r.metadata[\"batch_id\"]\n",
    "\n",
    "    \n",
    "    batch_idx += 1\n",
    "    queried_indices = active_learner.query()\n",
    "    log_next_batch(batch_idx, trec_dataset, queried_indices)\n",
    "    \n",
    "    rb.log(name=ctx.dataset, records=records, background=True)"
   ]
  },
  {
   "cell_type": "code",
   "execution_count": 10,
   "id": "20d02cae-ffc4-487d-a253-cfefd66f97c0",
   "metadata": {},
   "outputs": [
    {
     "name": "stdout",
     "output_type": "stream",
     "text": [
      "Logging records for batch 1\n"
     ]
    },
    {
     "name": "stderr",
     "output_type": "stream",
     "text": [
      "/usr/local/anaconda3/envs/rubrix/lib/python3.8/site-packages/rubrix/client/api.py:433: FutureWarning: The argument `as_pandas` is deprecated and will be removed in a future version. Please adapt your code accordingly. \n",
      "  warnings.warn(\n"
     ]
    },
    {
     "data": {
      "application/vnd.jupyter.widget-view+json": {
       "model_id": "a46be54f531d4c7abd2b8dfc2160e862",
       "version_major": 2,
       "version_minor": 0
      },
      "text/plain": [
       "  0%|          | 0/10 [00:00<?, ?it/s]"
      ]
     },
     "metadata": {},
     "output_type": "display_data"
    },
    {
     "name": "stdout",
     "output_type": "stream",
     "text": [
      "10 records logged to http://localhost:6900/datasets/rubrix/active-learning-test-batch\n"
     ]
    },
    {
     "data": {
      "application/vnd.jupyter.widget-view+json": {
       "model_id": "252fa838c32c4374842b121577851556",
       "version_major": 2,
       "version_minor": 0
      },
      "text/plain": [
       "  0%|          | 0/10 [00:00<?, ?it/s]"
      ]
     },
     "metadata": {},
     "output_type": "display_data"
    },
    {
     "name": "stdout",
     "output_type": "stream",
     "text": [
      "10 records logged to http://localhost:6900/datasets/rubrix/active-learning-test-batch\n",
      "Logging records for batch 2\n"
     ]
    },
    {
     "name": "stderr",
     "output_type": "stream",
     "text": [
      "/usr/local/anaconda3/envs/rubrix/lib/python3.8/site-packages/rubrix/client/api.py:433: FutureWarning: The argument `as_pandas` is deprecated and will be removed in a future version. Please adapt your code accordingly. \n",
      "  warnings.warn(\n"
     ]
    },
    {
     "data": {
      "application/vnd.jupyter.widget-view+json": {
       "model_id": "98cdaf4ca51b4c7eac56192cc3d93eb5",
       "version_major": 2,
       "version_minor": 0
      },
      "text/plain": [
       "  0%|          | 0/10 [00:00<?, ?it/s]"
      ]
     },
     "metadata": {},
     "output_type": "display_data"
    },
    {
     "name": "stdout",
     "output_type": "stream",
     "text": [
      "10 records logged to http://localhost:6900/datasets/rubrix/active-learning-test-batch\n"
     ]
    },
    {
     "data": {
      "application/vnd.jupyter.widget-view+json": {
       "model_id": "fca23eb58aee43f5a92a2b79dca58ede",
       "version_major": 2,
       "version_minor": 0
      },
      "text/plain": [
       "  0%|          | 0/10 [00:00<?, ?it/s]"
      ]
     },
     "metadata": {},
     "output_type": "display_data"
    },
    {
     "name": "stdout",
     "output_type": "stream",
     "text": [
      "10 records logged to http://localhost:6900/datasets/rubrix/active-learning-test-batch\n",
      "Logging records for batch 3\n"
     ]
    },
    {
     "name": "stderr",
     "output_type": "stream",
     "text": [
      "/usr/local/anaconda3/envs/rubrix/lib/python3.8/site-packages/rubrix/client/api.py:433: FutureWarning: The argument `as_pandas` is deprecated and will be removed in a future version. Please adapt your code accordingly. \n",
      "  warnings.warn(\n"
     ]
    },
    {
     "data": {
      "application/vnd.jupyter.widget-view+json": {
       "model_id": "7dbde2d6afa6403281532f5e9b287494",
       "version_major": 2,
       "version_minor": 0
      },
      "text/plain": [
       "  0%|          | 0/10 [00:00<?, ?it/s]"
      ]
     },
     "metadata": {},
     "output_type": "display_data"
    },
    {
     "name": "stdout",
     "output_type": "stream",
     "text": [
      "10 records logged to http://localhost:6900/datasets/rubrix/active-learning-test-batch\n"
     ]
    },
    {
     "data": {
      "application/vnd.jupyter.widget-view+json": {
       "model_id": "66fbb41e5e464226b510e1d738975461",
       "version_major": 2,
       "version_minor": 0
      },
      "text/plain": [
       "  0%|          | 0/10 [00:00<?, ?it/s]"
      ]
     },
     "metadata": {},
     "output_type": "display_data"
    },
    {
     "name": "stdout",
     "output_type": "stream",
     "text": [
      "10 records logged to http://localhost:6900/datasets/rubrix/active-learning-test-batch\n",
      "Logging records for batch 4\n"
     ]
    },
    {
     "name": "stderr",
     "output_type": "stream",
     "text": [
      "/usr/local/anaconda3/envs/rubrix/lib/python3.8/site-packages/rubrix/client/api.py:433: FutureWarning: The argument `as_pandas` is deprecated and will be removed in a future version. Please adapt your code accordingly. \n",
      "  warnings.warn(\n"
     ]
    },
    {
     "data": {
      "application/vnd.jupyter.widget-view+json": {
       "model_id": "ae0d12cf7a174d7eabfc7193a61bbe95",
       "version_major": 2,
       "version_minor": 0
      },
      "text/plain": [
       "  0%|          | 0/10 [00:00<?, ?it/s]"
      ]
     },
     "metadata": {},
     "output_type": "display_data"
    },
    {
     "name": "stdout",
     "output_type": "stream",
     "text": [
      "10 records logged to http://localhost:6900/datasets/rubrix/active-learning-test-batch\n"
     ]
    },
    {
     "data": {
      "application/vnd.jupyter.widget-view+json": {
       "model_id": "2f7889ee5b4848fdaaa45358c4bb2a12",
       "version_major": 2,
       "version_minor": 0
      },
      "text/plain": [
       "  0%|          | 0/10 [00:00<?, ?it/s]"
      ]
     },
     "metadata": {},
     "output_type": "display_data"
    },
    {
     "name": "stdout",
     "output_type": "stream",
     "text": [
      "10 records logged to http://localhost:6900/datasets/rubrix/active-learning-test-batch\n"
     ]
    }
   ],
   "source": [
    "next_loop_step_2.start()"
   ]
  },
  {
   "cell_type": "code",
   "execution_count": null,
   "id": "4301d400-3964-4ef2-b1bd-52d467eafb71",
   "metadata": {},
   "outputs": [],
   "source": []
  }
 ],
 "metadata": {
  "kernelspec": {
   "display_name": "Python 3 (ipykernel)",
   "language": "python",
   "name": "python3"
  },
  "language_info": {
   "codemirror_mode": {
    "name": "ipython",
    "version": 3
   },
   "file_extension": ".py",
   "mimetype": "text/x-python",
   "name": "python",
   "nbconvert_exporter": "python",
   "pygments_lexer": "ipython3",
   "version": "3.8.12"
  }
 },
 "nbformat": 4,
 "nbformat_minor": 5
}
